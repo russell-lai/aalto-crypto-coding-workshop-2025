{
 "cells": [
  {
   "cell_type": "code",
   "execution_count": 1,
   "id": "2ef0e44b-efb1-457f-ad6c-3945dd81f5da",
   "metadata": {
    "vscode": {
     "languageId": "python"
    }
   },
   "outputs": [],
   "source": [
    "from pke_params import *"
   ]
  },
  {
   "cell_type": "code",
   "execution_count": 2,
   "id": "0563b8dd",
   "metadata": {
    "vscode": {
     "languageId": "python"
    }
   },
   "outputs": [
    {
     "name": "stdout",
     "output_type": "stream",
     "text": [
      "secpar: [74], n: 1, q: 2^12\n",
      "secpar: [129], n: 2, q: 2^13\n",
      "PKE( secpar: 129, f: 512, phi: 256, n: 2, q: 4101, approx.q: 2^12.00, ell:  1, |ct|:   1.1 KB )\n",
      "next smallest prime q: 4111\n"
     ]
    },
    {
     "data": {
      "text/plain": [
       "PKE( secpar: 129, f: 512, phi: 256, n: 2, q: 4101, approx.q: 2^12.00, ell:  1, |ct|:   1.1 KB )"
      ]
     },
     "execution_count": 2,
     "metadata": {},
     "output_type": "execute_result"
    }
   ],
   "source": [
    "pke_params = gen_pke_params(secpar = 128, f = 512)\n",
    "pke_params"
   ]
  },
  {
   "cell_type": "code",
   "execution_count": null,
   "id": "05e91860",
   "metadata": {
    "vscode": {
     "languageId": "python"
    }
   },
   "outputs": [],
   "source": []
  },
  {
   "cell_type": "code",
   "execution_count": null,
   "id": "119f4433",
   "metadata": {},
   "outputs": [],
   "source": []
  }
 ],
 "metadata": {
  "kernelspec": {
   "display_name": "SageMath 10.6",
   "language": "sage",
   "name": "sagemath"
  },
  "language_info": {
   "codemirror_mode": {
    "name": "ipython",
    "version": 3
   },
   "file_extension": ".py",
   "mimetype": "text/x-python",
   "name": "sage",
   "nbconvert_exporter": "python",
   "pygments_lexer": "ipython3",
   "version": "3.13.3"
  }
 },
 "nbformat": 4,
 "nbformat_minor": 5
}
