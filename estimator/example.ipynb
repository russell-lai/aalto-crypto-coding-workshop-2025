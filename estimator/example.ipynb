{
 "cells": [
  {
   "cell_type": "code",
   "execution_count": 2,
   "id": "3b96664e",
   "metadata": {
    "vscode": {
     "languageId": "plaintext"
    }
   },
   "outputs": [],
   "source": [
    "import sys\n",
    "sys.path.append('./lattice-estimator')\n",
    "\n",
    "from estimator import SIS, LWE, ND\n",
    "from estimator.nd import sigmaf,stddevf"
   ]
  },
  {
   "cell_type": "code",
   "execution_count": 5,
   "id": "c714b76d",
   "metadata": {
    "vscode": {
     "languageId": "plaintext"
    }
   },
   "outputs": [
    {
     "name": "stdout",
     "output_type": "stream",
     "text": [
      "\u001b[31mInit signature:\u001b[39m\n",
      "LWE.Parameters(\n",
      "    n: int,\n",
      "    q: int,\n",
      "    Xs: estimator.nd.NoiseDistribution,\n",
      "    Xe: estimator.nd.NoiseDistribution,\n",
      "    m: int = +Infinity,\n",
      "    tag: str = \u001b[38;5;28;01mNone\u001b[39;00m,\n",
      ") -> \u001b[38;5;28;01mNone\u001b[39;00m\n",
      "\u001b[31mDocstring:\u001b[39m      The parameters for a Learning With Errors problem instance.\n",
      "\u001b[31mFile:\u001b[39m           ~/Nextcloud/Academic/Misc/coding_workshop_2025/estimator/lattice-estimator/estimator/lwe_parameters.py\n",
      "\u001b[31mType:\u001b[39m           type\n",
      "\u001b[31mSubclasses:\u001b[39m     NTRUParameters"
     ]
    }
   ],
   "source": [
    "LWE.Parameters?"
   ]
  },
  {
   "cell_type": "code",
   "execution_count": 20,
   "id": "09d30d4c",
   "metadata": {
    "vscode": {
     "languageId": "plaintext"
    }
   },
   "outputs": [
    {
     "name": "stdout",
     "output_type": "stream",
     "text": [
      "\u001b[31mSignature:\u001b[39m     \n",
      "LWE.estimate(\n",
      "    params,\n",
      "    red_cost_model=<estimator.reduction.MATZOV object at \u001b[32m0x7491f5c9d160\u001b[39m>,\n",
      "    red_shape_model=\u001b[33m'gsa'\u001b[39m,\n",
      "    deny_list=(),\n",
      "    add_list=(),\n",
      "    jobs=\u001b[32m1\u001b[39m,\n",
      "    catch_exceptions=\u001b[38;5;28;01mTrue\u001b[39;00m,\n",
      "    quiet=\u001b[38;5;28;01mFalse\u001b[39;00m,\n",
      ")\n",
      "\u001b[31mType:\u001b[39m           Estimate\n",
      "\u001b[31mString form:\u001b[39m    <estimator.lwe.Estimate object at 0x7491f5c9fa10>\n",
      "\u001b[31mFile:\u001b[39m           ~/Nextcloud/Academic/Misc/coding_workshop_2025/estimator/lattice-estimator/estimator/lwe.py\n",
      "\u001b[31mInit docstring:\u001b[39m Initialize self.  See help(type(self)) for accurate signature.\n",
      "\u001b[31mCall docstring:\u001b[39m\n",
      "Run all estimates, based on the default cost and shape models for\n",
      "lattice reduction.\n",
      "\n",
      "param params:\n",
      "   LWE parameters.\n",
      "\n",
      "param red_cost_model:\n",
      "   How to cost lattice reduction.\n",
      "\n",
      "param red_shape_model:\n",
      "   How to model the shape of a reduced basis (applies to primal\n",
      "   attacks)\n",
      "\n",
      "param deny_list:\n",
      "   skip these algorithms\n",
      "\n",
      "param add_list:\n",
      "   add these \"(name, function)\" pairs to the list of algorithms to\n",
      "   estimate.a\n",
      "\n",
      "param jobs:\n",
      "   Use multiple threads in parallel.\n",
      "\n",
      "param catch_exceptions:\n",
      "   When an estimate fails, just print a warning.\n",
      "\n",
      "param quiet:\n",
      "   suppress printing\n",
      "\n",
      "EXAMPLE\n",
      "\n",
      "   >>> from estimator import *\n",
      "   >>> _ = LWE.estimate(schemes.Kyber512)\n",
      "   bkw                  :: rop: ≈2^178.8, m: ≈2^166.8, mem: ≈2^167.8, b: 14, t1: 0, t2: 16, ℓ: 13, #cod: 448...\n",
      "   usvp                 :: rop: ≈2^143.8, red: ≈2^143.8, δ: 1.003941, β: 406, d: 998, tag: usvp\n",
      "   bdd                  :: rop: ≈2^140.3, red: ≈2^139.7, svp: ≈2^138.7, β: 391, η: 421, d: 1013, tag: bdd\n",
      "   dual                 :: rop: ≈2^149.9, mem: ≈2^97.1, m: 512, β: 424, d: 1024, ↻: 1, tag: dual\n",
      "   dual_hybrid          :: rop: ≈2^139.7, red: ≈2^139.5, guess: ≈2^135.9, β: 387, p: 5, ζ: 0, t: 50, β': 391...\n",
      "\n",
      "   >>> _ = LWE.estimate(schemes.Kyber512, quiet=True)"
     ]
    }
   ],
   "source": [
    "LWE.estimate?"
   ]
  },
  {
   "cell_type": "code",
   "execution_count": 23,
   "id": "3e82e515",
   "metadata": {
    "vscode": {
     "languageId": "plaintext"
    }
   },
   "outputs": [
    {
     "name": "stdout",
     "output_type": "stream",
     "text": [
      "\u001b[31mType:\u001b[39m            module\n",
      "\u001b[31mString form:\u001b[39m     <module 'estimator.nd' from '/home/russell/Nextcloud/Academic/Misc/coding_workshop_2025/estimator/lattice-estimator/estimator/nd.py'>\n",
      "\u001b[31mFile:\u001b[39m            ~/Nextcloud/Academic/Misc/coding_workshop_2025/estimator/lattice-estimator/estimator/nd.py\n",
      "\u001b[31mDocstring:\u001b[39m       Initialize self.  See help(type(self)) for accurate signature.\n",
      "\u001b[31mClass docstring:\u001b[39m\n",
      "Create a module object.\n",
      "\n",
      "The name must be a string; the optional doc argument can have any\n",
      "type.\n",
      "\u001b[31mInit docstring:\u001b[39m  Initialize self.  See help(type(self)) for accurate signature."
     ]
    }
   ],
   "source": [
    "ND?"
   ]
  },
  {
   "cell_type": "code",
   "execution_count": 19,
   "id": "16b3568d",
   "metadata": {
    "vscode": {
     "languageId": "plaintext"
    }
   },
   "outputs": [
    {
     "name": "stdout",
     "output_type": "stream",
     "text": [
      "LWEParameters(n=10, q=100, Xs=D(σ=28.87, μ=-0.50), Xe=D(σ=2.87, μ=-0.50), m=+Infinity, tag=None)\n",
      "\n",
      "Algorithm <estimator.lwe_bkw.CodedBKW object at 0x7491f5c9eba0> on LWEParameters(n=10, q=100, Xs=D(σ=2.87, μ=-0.50), Xe=D(σ=2.87, μ=-0.50), m=+Infinity, tag=None) failed with cannot access local variable 'sigma_set' where it is not associated with a value\n",
      "Algorithm functools.partial(<estimator.lwe_primal.PrimalUSVP object at 0x7491f5c9e660>, red_cost_model=<estimator.reduction.MATZOV object at 0x7491f5c9d160>, red_shape_model='gsa') on LWEParameters(n=10, q=100, Xs=D(σ=2.87, μ=-0.50), Xe=D(σ=2.87, μ=-0.50), m=+Infinity, tag=None) failed with unsupported operand type(s) for *: 'NoneType' and 'int'\n",
      "Algorithm functools.partial(<function primal_bdd at 0x7491f56c3560>, red_cost_model=<estimator.reduction.MATZOV object at 0x7491f5c9d160>, red_shape_model='gsa') on LWEParameters(n=10, q=100, Xs=D(σ=2.87, μ=-0.50), Xe=D(σ=2.87, μ=-0.50), m=+Infinity, tag=None) failed with unsupported operand type(s) for *: 'NoneType' and 'int'\n",
      "Algorithm functools.partial(<estimator.lwe_primal.PrimalHybrid object at 0x7491f5c9e7b0>, mitm=False, babai=False, red_cost_model=<estimator.reduction.MATZOV object at 0x7491f5c9d160>, red_shape_model='gsa') on LWEParameters(n=10, q=100, Xs=D(σ=2.87, μ=-0.50), Xe=D(σ=2.87, μ=-0.50), m=+Infinity, tag=None) failed with unsupported operand type(s) for *: 'NoneType' and 'int'\n",
      "Algorithm functools.partial(<estimator.lwe_primal.PrimalHybrid object at 0x7491f5c9e7b0>, mitm=True, babai=True, red_cost_model=<estimator.reduction.MATZOV object at 0x7491f5c9d160>, red_shape_model='gsa') on LWEParameters(n=10, q=100, Xs=D(σ=2.87, μ=-0.50), Xe=D(σ=2.87, μ=-0.50), m=+Infinity, tag=None) failed with unsupported operand type(s) for *: 'NoneType' and 'int'\n",
      "Algorithm functools.partial(<estimator.lwe_dual.MATZOV object at 0x7491f5c9f620>, red_cost_model=<estimator.reduction.MATZOV object at 0x7491f5c9d160>) on LWEParameters(n=10, q=100, Xs=D(σ=2.87, μ=-0.50), Xe=D(σ=2.87, μ=-0.50), m=+Infinity, tag=None) failed with Incorrect bounds 40 > 10.\n",
      "dual                 :: rop: ≈2^38.4, mem: ≈2^15.8, m: 50, β: 40, d: 60, ↻: 1, tag: dual\n",
      "\n",
      "{'arora-gb': rop: ≈2^inf, 'dual': rop: ≈2^38.4, mem: ≈2^15.8, m: 50, β: 40, d: 60, ↻: 1, tag: dual}\n",
      "\n",
      "38.3702347843497\n"
     ]
    }
   ],
   "source": [
    "n = 10\n",
    "q = n**2\n",
    "lweparam = LWE.Parameters(n=n,q=q,Xs=ND.UniformMod(q),Xe=ND.UniformMod(n))\n",
    "print(lweparam)\n",
    "print()\n",
    "costs = LWE.estimate(lweparam)\n",
    "print()\n",
    "print(costs)\n",
    "print()\n",
    "min_cost = log(min(cost[\"rop\"] for cost in costs.values()),2)\n",
    "print(min_cost)\n"
   ]
  },
  {
   "cell_type": "code",
   "execution_count": 2,
   "id": "7dfd9270",
   "metadata": {
    "vscode": {
     "languageId": "plaintext"
    }
   },
   "outputs": [
    {
     "name": "stdout",
     "output_type": "stream",
     "text": [
      "\u001b[31mInit signature:\u001b[39m\n",
      "SIS.Parameters(\n",
      "    n: int,\n",
      "    q: int,\n",
      "    length_bound: float,\n",
      "    m: int = \u001b[38;5;28;01mNone\u001b[39;00m,\n",
      "    norm: int = \u001b[32m2\u001b[39m,\n",
      "    tag: str = \u001b[38;5;28;01mNone\u001b[39;00m,\n",
      ") -> \u001b[38;5;28;01mNone\u001b[39;00m\n",
      "\u001b[31mDocstring:\u001b[39m      The parameters for a Short Integer Solution problem instance.\n",
      "\u001b[31mFile:\u001b[39m           ~/Nextcloud/Academic/Misc/coding_workshop_2025/estimator/lattice-estimator/estimator/sis_parameters.py\n",
      "\u001b[31mType:\u001b[39m           type\n",
      "\u001b[31mSubclasses:\u001b[39m     "
     ]
    }
   ],
   "source": [
    "SIS.Parameters?"
   ]
  },
  {
   "cell_type": "code",
   "execution_count": 3,
   "id": "27efa0d2",
   "metadata": {
    "vscode": {
     "languageId": "plaintext"
    }
   },
   "outputs": [
    {
     "name": "stdout",
     "output_type": "stream",
     "text": [
      "\u001b[31mSignature:\u001b[39m     \n",
      "SIS.estimate(\n",
      "    params,\n",
      "    red_cost_model=<estimator.reduction.MATZOV object at \u001b[32m0x7160444f9160\u001b[39m>,\n",
      "    red_shape_model=\u001b[33m'gsa'\u001b[39m,\n",
      "    deny_list=(),\n",
      "    add_list=(),\n",
      "    jobs=\u001b[32m1\u001b[39m,\n",
      "    catch_exceptions=\u001b[38;5;28;01mTrue\u001b[39;00m,\n",
      "    quiet=\u001b[38;5;28;01mFalse\u001b[39;00m,\n",
      ")\n",
      "\u001b[31mType:\u001b[39m           Estimate\n",
      "\u001b[31mString form:\u001b[39m    <estimator.sis.Estimate object at 0x716043b9c440>\n",
      "\u001b[31mFile:\u001b[39m           ~/Nextcloud/Academic/Misc/coding_workshop_2025/estimator/lattice-estimator/estimator/sis.py\n",
      "\u001b[31mInit docstring:\u001b[39m Initialize self.  See help(type(self)) for accurate signature.\n",
      "\u001b[31mCall docstring:\u001b[39m\n",
      "Run all estimates, based on the default cost and shape models for\n",
      "lattice reduction.\n",
      "\n",
      "param params:\n",
      "   SIS parameters.\n",
      "\n",
      "param red_cost_model:\n",
      "   How to cost lattice reduction.\n",
      "\n",
      "param red_shape_model:\n",
      "   How to model the shape of a reduced basis (applies to primal\n",
      "   attacks)\n",
      "\n",
      "param deny_list:\n",
      "   skip these algorithms\n",
      "\n",
      "param add_list:\n",
      "   add these \"(name, function)\" pairs to the list of algorithms to\n",
      "   estimate.a\n",
      "\n",
      "param jobs:\n",
      "   Use multiple threads in parallel.\n",
      "\n",
      "param catch_exceptions:\n",
      "   When an estimate fails, just print a warning.\n",
      "\n",
      "param quiet:\n",
      "   suppress printing\n",
      "\n",
      "EXAMPLE ::\n",
      "   >>> from estimator import *\n",
      "   >>> _ = SIS.estimate(schemes.Dilithium2_MSIS_StrUnf)\n",
      "   lattice  :: rop: ≈2^150.6, red: ≈2^149.6, sieve: ≈2^149.6, β: 421, η: 428, ζ: 0, d: 2304, ...\n",
      "\n",
      "   >>> params = SIS.Parameters(n=113, q=2048, length_bound=512, norm=2)\n",
      "   >>> _ = SIS.estimate(params)\n",
      "   lattice  :: rop: ≈2^47.0, red: ≈2^47.0, δ: 1.011391, β: 61, d: 276, tag: euclidean\n",
      "\n",
      "   >>> _ = SIS.estimate(params.updated(length_bound=16, norm=oo), red_shape_model=\"cn11\")\n",
      "   lattice  :: rop: ≈2^65.8, red: ≈2^64.8, sieve: ≈2^64.9, β: 113, η: 142, ζ: 0, d: 2486, ...\n",
      "   >>> _ = SIS.estimate(params.updated(length_bound=16, norm=oo), quiet=True)"
     ]
    }
   ],
   "source": [
    "SIS.estimate?"
   ]
  },
  {
   "cell_type": "code",
   "execution_count": 9,
   "id": "ae67b643",
   "metadata": {
    "vscode": {
     "languageId": "plaintext"
    }
   },
   "outputs": [
    {
     "name": "stdout",
     "output_type": "stream",
     "text": [
      "SISParameters(n=10, q=1000, length_bound=10, m=1000, norm=2, tag=None)\n",
      "\n",
      "lattice  :: rop: ≈2^37.3, red: ≈2^37.3, δ: 1.012950, β: 40, d: 59, tag: euclidean\n",
      "\n",
      "{'lattice': rop: ≈2^37.3, red: ≈2^37.3, δ: 1.012950, β: 40, d: 59, tag: euclidean}\n",
      "\n",
      "37.3368180075922\n"
     ]
    }
   ],
   "source": [
    "n = 10\n",
    "m = 1000\n",
    "q = n**3\n",
    "sisparam = SIS.Parameters(n=n,q=q,length_bound=n,m=m)\n",
    "print(sisparam)\n",
    "print()\n",
    "costs = SIS.estimate(sisparam)\n",
    "print()\n",
    "print(costs)\n",
    "print()\n",
    "min_cost = log(min(cost[\"rop\"] for cost in costs.values()),2)\n",
    "print(min_cost)\n"
   ]
  },
  {
   "cell_type": "code",
   "execution_count": null,
   "id": "040ede62",
   "metadata": {
    "vscode": {
     "languageId": "plaintext"
    }
   },
   "outputs": [],
   "source": []
  }
 ],
 "metadata": {
  "kernelspec": {
   "display_name": "SageMath 10.6",
   "language": "sage",
   "name": "sagemath"
  },
  "language_info": {
   "codemirror_mode": {
    "name": "ipython",
    "version": 3
   },
   "file_extension": ".py",
   "mimetype": "text/x-python",
   "name": "python",
   "nbconvert_exporter": "python",
   "pygments_lexer": "ipython3",
   "version": "3.13.3"
  }
 },
 "nbformat": 4,
 "nbformat_minor": 5
}
